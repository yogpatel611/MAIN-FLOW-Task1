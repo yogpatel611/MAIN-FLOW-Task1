{
 "cells": [
  {
   "cell_type": "markdown",
   "id": "fc72116f",
   "metadata": {},
   "source": [
    "# Task 1"
   ]
  },
  {
   "cell_type": "raw",
   "id": "c350aebd",
   "metadata": {},
   "source": [
    "Understanding python data types:-\n",
    "\n",
    "Description:\n",
    "This task involves understanding the basic data types in Python such as lists, dictionaries, and sets.\n",
    "\n",
    "Responsibility:\n",
    "Write a Python program to create a list, a dictionary, and a set. Perform basic operations like adding, removing, and modifying elements."
   ]
  },
  {
   "cell_type": "markdown",
   "id": "66f2cb7c",
   "metadata": {},
   "source": [
    "### => Basic Theory"
   ]
  },
  {
   "cell_type": "raw",
   "id": "bd2822cb",
   "metadata": {},
   "source": [
    "Python Data Types:\n",
    "\n",
    "1)List:\n",
    "-It is an ordered collection of items which can be of any type.\n",
    "-It is mutable.(it means elements can be changed after they are created)\n",
    "\n",
    "-syntax=\n",
    "    mylist = [\"element1\", \"element2\", \"element3\", ...]\n",
    "    \n",
    "2)Dictionary:\n",
    "-It is is an unordered collection of key-value pairs.\n",
    "-It is mutable.(it means elements can be changed after they are created)\n",
    "-The keys must be unique and of an immutable.\n",
    "\n",
    "-Syntax:\n",
    "    mydict = {key1: \"value1\", key2: \"value2\", key3: \"value3\", ...}\n",
    "    \n",
    "3)Sets:\n",
    "-It is an unordered collection of unique elements.\n",
    "-Sets are mutable but the elements must be immutable types.\n",
    "\n",
    "-Syntax:\n",
    "    # Using curly braces\n",
    "    myset = {\"element1\", \"element2\", \"element3\", ...}\n",
    "\n",
    "    # Using set() function\n",
    "    myset = set([\"element1\", \"element2\", \"element3\", ...])"
   ]
  },
  {
   "cell_type": "markdown",
   "id": "702b6892",
   "metadata": {},
   "source": [
    "### =>Coding Part"
   ]
  },
  {
   "cell_type": "markdown",
   "id": "4a3ca58b",
   "metadata": {},
   "source": [
    "#### List"
   ]
  },
  {
   "cell_type": "code",
   "execution_count": 113,
   "id": "b0cb8ddf",
   "metadata": {},
   "outputs": [
    {
     "name": "stdout",
     "output_type": "stream",
     "text": [
      "List: [1, 2, 3, 4, 5]\n"
     ]
    }
   ],
   "source": [
    "# Create a list\n",
    "mylist = [1, 2, 3, 4, 5]\n",
    "\n",
    "print(\"List:\", mylist)"
   ]
  },
  {
   "cell_type": "code",
   "execution_count": 114,
   "id": "da21fce5",
   "metadata": {},
   "outputs": [
    {
     "name": "stdout",
     "output_type": "stream",
     "text": [
      "After adding: [1, 2, 3, 4, 5, 6]\n"
     ]
    }
   ],
   "source": [
    "# Adding elements\n",
    "mylist.append(6)\n",
    "\n",
    "print(\"After adding:\", mylist)"
   ]
  },
  {
   "cell_type": "code",
   "execution_count": 115,
   "id": "6045400c",
   "metadata": {},
   "outputs": [
    {
     "name": "stdout",
     "output_type": "stream",
     "text": [
      "After removing: [1, 2, 3, 4, 5]\n"
     ]
    }
   ],
   "source": [
    "# Removing elements\n",
    "mylist.remove(6)  \n",
    "\n",
    "print(\"After removing:\", mylist)"
   ]
  },
  {
   "cell_type": "code",
   "execution_count": 116,
   "id": "c4491347",
   "metadata": {},
   "outputs": [
    {
     "name": "stdout",
     "output_type": "stream",
     "text": [
      "After modifying element: [11, 2, 3, 4, 5]\n"
     ]
    }
   ],
   "source": [
    "# Modifying elements\n",
    "mylist[0] = 11  # Changes the element at index 0 to 11\n",
    "\n",
    "print(\"After modifying element:\", mylist)"
   ]
  },
  {
   "cell_type": "code",
   "execution_count": 117,
   "id": "1cde8744",
   "metadata": {},
   "outputs": [
    {
     "name": "stdout",
     "output_type": "stream",
     "text": [
      "List after inserting an element: [11, 2, 3, 4, 5, 6]\n",
      "\n",
      "List after reversing: [6, 5, 4, 3, 2, 11]\n",
      "\n",
      "List after sorting: [2, 3, 4, 5, 6, 11]\n",
      "\n",
      "List after sorting in descending order: [11, 6, 5, 4, 3, 2]\n",
      "\n",
      "List after extending: [11, 6, 5, 4, 3, 2, 7, 8, 9]\n",
      "\n",
      "Sublist from index 2 to 4: [5, 4, 3]\n",
      "\n",
      "Index of element 3: 4\n",
      "\n",
      "Does element 3 exist in the list? True\n",
      "\n",
      "List after clearing all elements: []\n",
      "\n"
     ]
    }
   ],
   "source": [
    "#Extra\n",
    "\n",
    "# Inserting an element at a specific position\n",
    "mylist.insert(5,6)  # Insert 6 at index 5\n",
    "print(\"List after inserting an element:\", mylist)\n",
    "print()\n",
    "\n",
    "# Reversing the list\n",
    "mylist.reverse()\n",
    "print(\"List after reversing:\", mylist)\n",
    "print()\n",
    "\n",
    "# Sorting the list\n",
    "mylist.sort()\n",
    "print(\"List after sorting:\", mylist)\n",
    "print()\n",
    "\n",
    "# Sorting the list in descending order\n",
    "mylist.sort(reverse=True)\n",
    "print(\"List after sorting in descending order:\", mylist)\n",
    "print()\n",
    "\n",
    "# Extending the list by another list\n",
    "mylist.extend([7, 8, 9])\n",
    "print(\"List after extending:\", mylist)\n",
    "print()\n",
    "\n",
    "# Slicing a list \n",
    "sublist = mylist[2:5]  # Elements from index 2 to 4\n",
    "print(\"Sublist from index 2 to 4:\", sublist)\n",
    "print()\n",
    "\n",
    "# Finding the index of an element\n",
    "index_of_3 = mylist.index(3)\n",
    "print(\"Index of element 3:\", index_of_3)\n",
    "print()\n",
    "\n",
    "# Checking if an element exists in the list\n",
    "element_exists = 3 in mylist\n",
    "print(\"Does element 3 exist in the list?\", element_exists)\n",
    "print()\n",
    "\n",
    "# Clearing all elements from the list\n",
    "mylist.clear()\n",
    "print(\"List after clearing all elements:\", mylist)\n",
    "print()"
   ]
  },
  {
   "cell_type": "markdown",
   "id": "59baee37",
   "metadata": {},
   "source": [
    "#### Dictionary"
   ]
  },
  {
   "cell_type": "code",
   "execution_count": 118,
   "id": "e42abdf6",
   "metadata": {},
   "outputs": [
    {
     "name": "stdout",
     "output_type": "stream",
     "text": [
      "{'name': 'Het', 'age': 21, 'Country': 'India'}\n"
     ]
    }
   ],
   "source": [
    "# Creating a dictionary\n",
    "mydict = {'name': 'Het','age': 21,'Country': 'India'}\n",
    "\n",
    "print(mydict)"
   ]
  },
  {
   "cell_type": "code",
   "execution_count": 119,
   "id": "44945549",
   "metadata": {},
   "outputs": [
    {
     "name": "stdout",
     "output_type": "stream",
     "text": [
      "{'name': 'Het', 'age': 21, 'Country': 'India', 'sex': 'Male'}\n"
     ]
    }
   ],
   "source": [
    "# Adding a new key-value pair\n",
    "mydict['sex'] = 'Male'\n",
    "\n",
    "print(mydict)"
   ]
  },
  {
   "cell_type": "code",
   "execution_count": 120,
   "id": "4be34321",
   "metadata": {},
   "outputs": [
    {
     "name": "stdout",
     "output_type": "stream",
     "text": [
      "Removed sex: Male\n",
      "{'name': 'Het', 'age': 21, 'Country': 'India'}\n"
     ]
    }
   ],
   "source": [
    "# Using pop() to remove an element\n",
    "sex = mydict.pop('sex')\n",
    "\n",
    "print('Removed sex:', sex)\n",
    "print(mydict)"
   ]
  },
  {
   "cell_type": "code",
   "execution_count": 121,
   "id": "1d784b1f",
   "metadata": {},
   "outputs": [
    {
     "name": "stdout",
     "output_type": "stream",
     "text": [
      "{'name': 'Het', 'age': 22, 'Country': 'India'}\n"
     ]
    }
   ],
   "source": [
    "# Modifying an existing key-value pair\n",
    "mydict['age'] = 22\n",
    "\n",
    "print(mydict)"
   ]
  },
  {
   "cell_type": "code",
   "execution_count": 122,
   "id": "c3674407",
   "metadata": {},
   "outputs": [
    {
     "name": "stdout",
     "output_type": "stream",
     "text": [
      "Does key 'name' exist in the dictionary? True\n",
      "\n",
      "Value associated with key 'Country': India\n",
      "\n",
      "Dictionary keys:\n",
      "name\n",
      "age\n",
      "Country\n",
      "\n",
      "Dictionary values:\n",
      "Het\n",
      "22\n",
      "India\n",
      "\n",
      "Dictionary key-value pairs:\n",
      "name : Het\n",
      "age : 22\n",
      "Country : India\n",
      "\n",
      "All keys as a list: ['name', 'age', 'Country']\n",
      "\n",
      "Length of the dictionary: 3\n",
      "\n",
      "All values as a list: ['Het', 22, 'India']\n",
      "\n",
      "Dictionary after clearing all elements: {}\n",
      "\n",
      "Nested dictionary: {'dict1': {'a': 1, 'b': 2}, 'dict2': {'c': 3, 'd': 4}}\n"
     ]
    }
   ],
   "source": [
    "#Extra\n",
    "\n",
    "# Checking if a key exists in the dictionary\n",
    "key_exists = 'name' in mydict\n",
    "print(\"Does key 'name' exist in the dictionary?\", key_exists)\n",
    "print()\n",
    "\n",
    "# Getting the value of a key with get() (avoids KeyError)\n",
    "value = mydict.get('Country')\n",
    "print(\"Value associated with key 'Country':\", value)\n",
    "print()\n",
    "\n",
    "# Iterating over dictionary keys\n",
    "print(\"Dictionary keys:\")\n",
    "for key in mydict.keys():\n",
    "    print(key)\n",
    "print()\n",
    "\n",
    "# Iterating over dictionary values\n",
    "print(\"Dictionary values:\")\n",
    "for value in mydict.values():\n",
    "    print(value)\n",
    "print()\n",
    "\n",
    "# Iterating over dictionary key-value pairs\n",
    "print(\"Dictionary key-value pairs:\")\n",
    "for key, value in mydict.items():\n",
    "    print(key, \":\", value)\n",
    "print()\n",
    "\n",
    "# Retrieving all keys as a list\n",
    "keys_list = list(mydict.keys())\n",
    "print(\"All keys as a list:\", keys_list)\n",
    "print()\n",
    "\n",
    "# Getting the length of the dictionary\n",
    "dict_length = len(mydict)\n",
    "print(\"Length of the dictionary:\", dict_length)\n",
    "print()\n",
    "\n",
    "# Retrieving all values as a list\n",
    "values_list = list(mydict.values())\n",
    "print(\"All values as a list:\", values_list)\n",
    "print()\n",
    "\n",
    "# Clearing all elements from the dictionary\n",
    "mydict.clear()\n",
    "print(\"Dictionary after clearing all elements:\", mydict)\n",
    "print()\n",
    "\n",
    "# Nested dictionaries\n",
    "nested_dict = {\n",
    "    'dict1': {'a': 1, 'b': 2},\n",
    "    'dict2': {'c': 3, 'd': 4}\n",
    "}\n",
    "print(\"Nested dictionary:\", nested_dict)"
   ]
  },
  {
   "cell_type": "markdown",
   "id": "0b4187f4",
   "metadata": {},
   "source": [
    "#### set"
   ]
  },
  {
   "cell_type": "code",
   "execution_count": 154,
   "id": "eac29b00",
   "metadata": {},
   "outputs": [
    {
     "name": "stdout",
     "output_type": "stream",
     "text": [
      "Set: {1, 2, 3, 4, 5}\n"
     ]
    }
   ],
   "source": [
    "# Creating a set\n",
    "myset = {1, 2, 3, 4, 5}\n",
    "print(\"Set:\", myset)"
   ]
  },
  {
   "cell_type": "code",
   "execution_count": 155,
   "id": "ba439f01",
   "metadata": {},
   "outputs": [
    {
     "name": "stdout",
     "output_type": "stream",
     "text": [
      "After adding: {1, 2, 3, 4, 5, 6}\n"
     ]
    }
   ],
   "source": [
    "# Adding elements\n",
    "myset.add(6)\n",
    "print(\"After adding:\", myset)"
   ]
  },
  {
   "cell_type": "code",
   "execution_count": 156,
   "id": "268898dc",
   "metadata": {},
   "outputs": [
    {
     "name": "stdout",
     "output_type": "stream",
     "text": [
      "After removing: {1, 2, 3, 4, 5}\n"
     ]
    }
   ],
   "source": [
    "# Using remove() to remove an element\n",
    "myset.remove(6)\n",
    "print(\"After removing:\", myset)"
   ]
  },
  {
   "cell_type": "code",
   "execution_count": 157,
   "id": "fdac0ffb",
   "metadata": {},
   "outputs": [
    {
     "name": "stdout",
     "output_type": "stream",
     "text": [
      "After modifying: {1, 2, 3, 4, 55}\n"
     ]
    }
   ],
   "source": [
    "# Modifying a set: Since sets do not support indexing, you can modify by removing an element and adding another one.\n",
    "# Removing an element and adding a new one\n",
    "myset.remove(5)\n",
    "myset.add(55)\n",
    "print(\"After modifying:\", myset)"
   ]
  },
  {
   "cell_type": "code",
   "execution_count": 160,
   "id": "688f8110",
   "metadata": {},
   "outputs": [
    {
     "name": "stdout",
     "output_type": "stream",
     "text": [
      "Does element 3 exist in the set? True\n",
      "\n",
      "Union of sets: {1, 2, 3, 4, 5, 6}\n",
      "\n",
      "Intersection of sets: {4}\n",
      "\n",
      "Difference of sets: {1, 2, 3}\n",
      "\n",
      "myset after clearing all elements: set()\n"
     ]
    }
   ],
   "source": [
    "#Extra\n",
    "\n",
    "set1 = {1,2,3,4}\n",
    "set2 = {4,5,6}\n",
    "\n",
    "# Checking if an element exists in the set\n",
    "element_exists = 3 in set1 or set2\n",
    "print(\"Does element 3 exist in the set?\", element_exists)\n",
    "print()\n",
    "\n",
    "# Union of two sets\n",
    "union_set = set1.union(set2)\n",
    "print(\"Union of sets:\", union_set)\n",
    "print()\n",
    "\n",
    "# Intersection of two sets\n",
    "intersection_set = set1.intersection(set2)\n",
    "print(\"Intersection of sets:\", intersection_set)\n",
    "print()\n",
    "\n",
    "# Difference of two sets\n",
    "difference_set = set1.difference(set2)\n",
    "print(\"Difference of sets:\", difference_set)\n",
    "print()\n",
    "\n",
    "# Clearing all elements from the set\n",
    "myset.clear()\n",
    "print(\"myset after clearing all elements:\", myset)"
   ]
  },
  {
   "cell_type": "code",
   "execution_count": null,
   "id": "0e790d0d-8e63-42ed-8c89-cb5b83b86a84",
   "metadata": {},
   "outputs": [],
   "source": []
  }
 ],
 "metadata": {
  "kernelspec": {
   "display_name": "Python 3 (ipykernel)",
   "language": "python",
   "name": "python3"
  },
  "language_info": {
   "codemirror_mode": {
    "name": "ipython",
    "version": 3
   },
   "file_extension": ".py",
   "mimetype": "text/x-python",
   "name": "python",
   "nbconvert_exporter": "python",
   "pygments_lexer": "ipython3",
   "version": "3.12.2"
  }
 },
 "nbformat": 4,
 "nbformat_minor": 5
}
